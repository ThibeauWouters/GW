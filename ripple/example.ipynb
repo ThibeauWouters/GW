{
 "cells": [
  {
   "cell_type": "code",
   "execution_count": 1,
   "metadata": {},
   "outputs": [],
   "source": [
    "### To get float64 support, run:\n",
    "\n",
    "#from jax import config\n",
    "#config.update(\"jax_enable_x64\", True)"
   ]
  },
  {
   "cell_type": "markdown",
   "metadata": {},
   "source": [
    "Import relevant libraries:"
   ]
  },
  {
   "cell_type": "code",
   "execution_count": 2,
   "metadata": {},
   "outputs": [],
   "source": [
    "import jax.numpy as jnp\n",
    "\n",
    "from ripple.waveforms import IMRPhenomXAS\n",
    "from ripple import ms_to_Mc_eta"
   ]
  },
  {
   "cell_type": "markdown",
   "metadata": {},
   "source": [
    "Code taken from the ripple github overview page:"
   ]
  },
  {
   "cell_type": "code",
   "execution_count": 3,
   "metadata": {},
   "outputs": [],
   "source": [
    "# Get a frequency domain waveform\n",
    "# source parameters\n",
    "\n",
    "m1_msun = 20.0 # In solar masses\n",
    "m2_msun = 19.0\n",
    "chi1 = 0.5 # Dimensionless spin\n",
    "chi2 = -0.5\n",
    "tc = 0.0 # Time of coalescence in seconds\n",
    "phic = 0.0 # Time of coalescence\n",
    "dist_mpc = 440 # Distance to source in Mpc\n",
    "inclination = 0.0 # Inclination Angle\n",
    "\n",
    "# The PhenomD waveform model is parameterized with the chirp mass and symmetric mass ratio\n",
    "Mc, eta = ms_to_Mc_eta(jnp.array([m1_msun, m2_msun]))\n",
    "\n",
    "# These are the parametrs that go into the waveform generator\n",
    "# Note that JAX does not give index errors, so if you pass in the\n",
    "# the wrong array it will behave strangely\n",
    "theta_ripple = jnp.array([Mc, eta, chi1, chi2, dist_mpc, tc, phic, inclination])\n",
    "\n",
    "# Now we need to generate the frequency grid\n",
    "f_l = 24\n",
    "f_u = 512\n",
    "del_f = 0.01\n",
    "fs = jnp.arange(f_l, f_u, del_f)\n",
    "f_ref = f_l\n",
    "\n",
    "# And finally lets generate the waveform!\n",
    "hp_ripple, hc_ripple = IMRPhenomXAS.gen_IMRPhenomXAS_hphc(fs, theta_ripple, f_ref)\n",
    "\n",
    "# Note that we have not internally jitted the functions since this would\n",
    "# introduce an annoying overhead each time the user evaluated the function with a different length frequency array\n",
    "# We therefore recommend that the user jit the function themselves to accelerate evaluations. For example:\n",
    "\n",
    "import jax\n",
    "\n",
    "@jax.jit\n",
    "def waveform(theta):\n",
    "    return IMRPhenomXAS.gen_IMRPhenomXAS_hphc(fs, theta)"
   ]
  },
  {
   "cell_type": "code",
   "execution_count": null,
   "metadata": {},
   "outputs": [],
   "source": [
    "hp_ripple"
   ]
  }
 ],
 "metadata": {
  "kernelspec": {
   "display_name": "ripple",
   "language": "python",
   "name": "python3"
  },
  "language_info": {
   "codemirror_mode": {
    "name": "ipython",
    "version": 3
   },
   "file_extension": ".py",
   "mimetype": "text/x-python",
   "name": "python",
   "nbconvert_exporter": "python",
   "pygments_lexer": "ipython3",
   "version": "3.11.4"
  },
  "orig_nbformat": 4
 },
 "nbformat": 4,
 "nbformat_minor": 2
}
