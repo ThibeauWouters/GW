{
 "cells": [
  {
   "cell_type": "code",
   "execution_count": 55,
   "metadata": {},
   "outputs": [],
   "source": [
    "import bilby\n",
    "import matplotlib.pyplot as plt"
   ]
  },
  {
   "cell_type": "code",
   "execution_count": 61,
   "metadata": {},
   "outputs": [
    {
     "data": {
      "text/plain": [
       "'\\na_1= 0.1,\\n    a_2= 0.2, \\n    tilt_1 = 0.1, \\n    tilt_2 = 0., \\n    phi_12 = 0., \\n    phi_jl = 0., \\n'"
      ]
     },
     "execution_count": 61,
     "metadata": {},
     "output_type": "execute_result"
    }
   ],
   "source": [
    "injection_parameters = dict(\n",
    "    mass_1=36., \n",
    "    mass_2=29., \n",
    "    \n",
    "    chi_1 = 0.2,  \n",
    "    chi_2 = 0.1, \n",
    "    ra= 0.5, \n",
    "    dec= 0., \n",
    "    luminosity_distance= 1000., \n",
    "    theta_jn= 0., \n",
    "    \n",
    "    psi= 0., \n",
    "    geocent_time= 0., \n",
    "    phase= 0., \n",
    "    \n",
    ")\n",
    "'''\n",
    "a_1= 0.1,\n",
    "    a_2= 0.2, \n",
    "    tilt_1 = 0.1, \n",
    "    tilt_2 = 0., \n",
    "    phi_12 = 0., \n",
    "    phi_jl = 0., \n",
    "'''"
   ]
  },
  {
   "cell_type": "code",
   "execution_count": 62,
   "metadata": {},
   "outputs": [],
   "source": [
    "minimum_frequency = 20. \n",
    "sampling_frequency = 2048.\n",
    "duration = 8. \n",
    "reference_frequency = 50.\n",
    "waveform_approximant = 'IMRPhenomD'\n"
   ]
  },
  {
   "cell_type": "code",
   "execution_count": 63,
   "metadata": {},
   "outputs": [
    {
     "name": "stderr",
     "output_type": "stream",
     "text": [
      "09:44 bilby INFO    : Waveform generator initiated with\n",
      "  frequency_domain_source_model: bilby.gw.source.lal_binary_black_hole\n",
      "  time_domain_source_model: None\n",
      "  parameter_conversion: bilby.gw.conversion.convert_to_lal_binary_black_hole_parameters\n"
     ]
    }
   ],
   "source": [
    "waveform_arguments = dict(minimum_frequency = minimum_frequency, reference_frequency = reference_frequency, waveform_approximant = waveform_approximant)\n",
    "waveform_generator = bilby.gw.WaveformGenerator(duration = duration, sampling_frequency = sampling_frequency, \n",
    "                                                frequency_domain_source_model = bilby.gw.source.lal_binary_black_hole,\n",
    "        parameter_conversion=bilby.gw.conversion.convert_to_lal_binary_black_hole_parameters,\n",
    "        waveform_arguments=waveform_arguments)"
   ]
  },
  {
   "cell_type": "code",
   "execution_count": 64,
   "metadata": {},
   "outputs": [],
   "source": [
    "polas = waveform_generator.frequency_domain_strain(injection_parameters)"
   ]
  },
  {
   "cell_type": "code",
   "execution_count": 60,
   "metadata": {},
   "outputs": [
    {
     "data": {
      "text/plain": [
       "[<matplotlib.lines.Line2D at 0x173a25410>]"
      ]
     },
     "execution_count": 60,
     "metadata": {},
     "output_type": "execute_result"
    },
    {
     "data": {
      "image/png": "[encoded data removed]",
      "text/plain": [
       "<Figure size 640x480 with 1 Axes>"
      ]
     },
     "metadata": {},
     "output_type": "display_data"
    }
   ],
   "source": [
    "plt.plot(waveform_generator.frequency_array, polas['plus'])"
   ]
  },
  {
   "cell_type": "code",
   "execution_count": null,
   "metadata": {},
   "outputs": [],
   "source": []
  }
 ],
 "metadata": {
  "kernelspec": {
   "display_name": "ripple",
   "language": "python",
   "name": "python3"
  },
  "language_info": {
   "codemirror_mode": {
    "name": "ipython",
    "version": 3
   },
   "file_extension": ".py",
   "mimetype": "text/x-python",
   "name": "python",
   "nbconvert_exporter": "python",
   "pygments_lexer": "ipython3",
   "version": "3.11.4"
  },
  "orig_nbformat": 4
 },
 "nbformat": 4,
 "nbformat_minor": 2
}
